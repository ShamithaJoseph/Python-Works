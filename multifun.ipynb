{
 "cells": [
  {
   "cell_type": "code",
   "execution_count": 4,
   "id": "a95c79b5",
   "metadata": {},
   "outputs": [],
   "source": [
    "from MultipleFunctions import allfunctions"
   ]
  },
  {
   "cell_type": "code",
   "execution_count": 5,
   "id": "a9a134fc",
   "metadata": {},
   "outputs": [
    {
     "name": "stdout",
     "output_type": "stream",
     "text": [
      "Sub-fields in AI are:\n",
      "Machine Learning\n",
      "Neural Networks\n",
      "Vision,Robotics\n",
      "Speech Processing\n",
      "Natural Language Processing\n"
     ]
    }
   ],
   "source": [
    "allfunctions.SubfieldInAI()"
   ]
  },
  {
   "cell_type": "code",
   "execution_count": 6,
   "id": "9df7f38d",
   "metadata": {},
   "outputs": [
    {
     "name": "stdout",
     "output_type": "stream",
     "text": [
      "Enter the number23\n",
      "23  is Odd number\n"
     ]
    },
    {
     "data": {
      "text/plain": [
       "'Odd number'"
      ]
     },
     "execution_count": 6,
     "metadata": {},
     "output_type": "execute_result"
    }
   ],
   "source": [
    "allfunctions.oddeven()"
   ]
  },
  {
   "cell_type": "code",
   "execution_count": 7,
   "id": "83001617",
   "metadata": {},
   "outputs": [
    {
     "name": "stdout",
     "output_type": "stream",
     "text": [
      "Your Gender:female\n",
      "Your Age23\n",
      "Eligible\n"
     ]
    }
   ],
   "source": [
    "allfunctions.elegiblityformarriage()"
   ]
  },
  {
   "cell_type": "code",
   "execution_count": 8,
   "id": "4f2d0c52",
   "metadata": {},
   "outputs": [
    {
     "name": "stdout",
     "output_type": "stream",
     "text": [
      "Subject190\n",
      "Subject278\n",
      "Subject395\n",
      "Subject479\n",
      "Subject590\n",
      "Total=  432\n"
     ]
    },
    {
     "data": {
      "text/plain": [
       "86.4"
      ]
     },
     "execution_count": 8,
     "metadata": {},
     "output_type": "execute_result"
    }
   ],
   "source": [
    "allfunctions.percent()"
   ]
  },
  {
   "cell_type": "code",
   "execution_count": null,
   "id": "5b3cd52d",
   "metadata": {},
   "outputs": [],
   "source": []
  }
 ],
 "metadata": {
  "kernelspec": {
   "display_name": "Python 3 (ipykernel)",
   "language": "python",
   "name": "python3"
  },
  "language_info": {
   "codemirror_mode": {
    "name": "ipython",
    "version": 3
   },
   "file_extension": ".py",
   "mimetype": "text/x-python",
   "name": "python",
   "nbconvert_exporter": "python",
   "pygments_lexer": "ipython3",
   "version": "3.11.5"
  }
 },
 "nbformat": 4,
 "nbformat_minor": 5
}
