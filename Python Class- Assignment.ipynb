{
 "cells": [
  {
   "cell_type": "code",
   "execution_count": null,
   "id": "8bd15c44",
   "metadata": {},
   "outputs": [],
   "source": [
    " # Create a class and function, and list out the items in the list"
   ]
  },
  {
   "cell_type": "code",
   "execution_count": 2,
   "id": "d3ddb7fc",
   "metadata": {},
   "outputs": [],
   "source": [
    "class SubfieldsInAI():\n",
    "    def Subfields():\n",
    "        print(\"Sub-fields in AI are:\")\n",
    "        mylist= [\"Machine Learning\",\"Neural Networks\",\"Vision,Robotics\",\"Speech Processing\",\"Natural Language Processing\"]\n",
    "        for i in mylist:\n",
    "            print(i)\n"
   ]
  },
  {
   "cell_type": "code",
   "execution_count": 4,
   "id": "492e8674",
   "metadata": {},
   "outputs": [
    {
     "name": "stdout",
     "output_type": "stream",
     "text": [
      "Sub-fields in AI are:\n",
      "Machine Learning\n",
      "Neural Networks\n",
      "Vision,Robotics\n",
      "Speech Processing\n",
      "Natural Language Processing\n"
     ]
    }
   ],
   "source": [
    "SubfieldsInAI.Subfields()"
   ]
  },
  {
   "cell_type": "code",
   "execution_count": null,
   "id": "eb4bad43",
   "metadata": {},
   "outputs": [],
   "source": [
    "# Create a function that checks whether the given number is Odd or Even"
   ]
  },
  {
   "cell_type": "code",
   "execution_count": 5,
   "id": "35dd1769",
   "metadata": {},
   "outputs": [],
   "source": [
    "class  OddEven():\n",
    "    def oddeven():\n",
    "        num=int(input(\"Enter the number\"))\n",
    "        if ((num%2)==0):\n",
    "            print(num,\" is Even number\")\n",
    "            message=\"Even number\"\n",
    "        else:\n",
    "            print(num, \" is Odd number\" )\n",
    "            message=\"Odd number\"\n",
    "        return message\n"
   ]
  },
  {
   "cell_type": "code",
   "execution_count": 6,
   "id": "b42f3ba4",
   "metadata": {},
   "outputs": [
    {
     "name": "stdout",
     "output_type": "stream",
     "text": [
      "Enter the number22\n",
      "22  is Even number\n"
     ]
    },
    {
     "data": {
      "text/plain": [
       "'Even number'"
      ]
     },
     "execution_count": 6,
     "metadata": {},
     "output_type": "execute_result"
    }
   ],
   "source": [
    "OddEven.oddeven()"
   ]
  },
  {
   "cell_type": "code",
   "execution_count": null,
   "id": "3913afac",
   "metadata": {},
   "outputs": [],
   "source": [
    "# Create a function that tells elegibility of marriage for male and female according to their age limit like 21 for male and 18 for female"
   ]
  },
  {
   "cell_type": "code",
   "execution_count": 7,
   "id": "f2f794b8",
   "metadata": {},
   "outputs": [],
   "source": [
    "class eligible():\n",
    "    def elegiblityformarriage():\n",
    "        gender=input(\"Your Gender:\")\n",
    "        age=int(input(\"Your Age\"))\n",
    "        if gender==\"male\":\n",
    "            if age>=21:\n",
    "                print(\"Eligible\")\n",
    "            else:\n",
    "                print(\"Not eligible\")\n",
    "        elif gender==\"female\":\n",
    "            if age>=18:\n",
    "                print(\"Eligible\")\n",
    "            else:\n",
    "                print(\"Not eligible\")\n",
    "        else:\n",
    "            print(\"Invalid\")"
   ]
  },
  {
   "cell_type": "code",
   "execution_count": 8,
   "id": "d944bd4b",
   "metadata": {},
   "outputs": [
    {
     "name": "stdout",
     "output_type": "stream",
     "text": [
      "Your Gender:male\n",
      "Your Age16\n",
      "Not eligible\n"
     ]
    }
   ],
   "source": [
    "eligible.elegiblityformarriage()"
   ]
  },
  {
   "cell_type": "code",
   "execution_count": null,
   "id": "8066fb7c",
   "metadata": {},
   "outputs": [],
   "source": [
    "# calculate the percentage of your 10th mark"
   ]
  },
  {
   "cell_type": "code",
   "execution_count": 9,
   "id": "57215d6f",
   "metadata": {},
   "outputs": [],
   "source": [
    "class findpercent():\n",
    "    def percent():\n",
    "        sub1=int(input(\"Subject1\"))\n",
    "        sub2=int(input(\"Subject2\"))\n",
    "        sub3=int(input(\"Subject3\"))\n",
    "        sub4=int(input(\"Subject4\"))\n",
    "        sub5=int(input(\"Subject5\"))\n",
    "        total=sub1+sub2+sub3+sub4+sub5\n",
    "        print(\"Total= \",total)\n",
    "        per=(total/5)\n",
    "        percentage=per   \n",
    "        return percentage"
   ]
  },
  {
   "cell_type": "code",
   "execution_count": 10,
   "id": "85625c0d",
   "metadata": {},
   "outputs": [
    {
     "name": "stdout",
     "output_type": "stream",
     "text": [
      "Subject193\n",
      "Subject295\n",
      "Subject395\n",
      "Subject493\n",
      "Subject580\n",
      "Total=  456\n"
     ]
    },
    {
     "data": {
      "text/plain": [
       "91.2"
      ]
     },
     "execution_count": 10,
     "metadata": {},
     "output_type": "execute_result"
    }
   ],
   "source": [
    "findpercent.percent()"
   ]
  },
  {
   "cell_type": "code",
   "execution_count": null,
   "id": "5f116e8b",
   "metadata": {},
   "outputs": [],
   "source": [
    "#print area and perimeter of triangle using class and functions"
   ]
  },
  {
   "cell_type": "code",
   "execution_count": 11,
   "id": "3edbd909",
   "metadata": {},
   "outputs": [],
   "source": [
    "class triangle():\n",
    "    def triangle():\n",
    "\n",
    "        H=int(input(\"Height: \"))\n",
    "\n",
    "        B=int(input(\"Breadth: \"))\n",
    "\n",
    "        Area=(H*B)/2\n",
    "\n",
    "        print(\"Area of Triangle: \",Area)\n",
    "\n",
    "        message=\"Area\"\n",
    "\n",
    "        H1=int(input(\"Height1: \"))\n",
    "\n",
    "        H2=int(input(\"Height2: \"))\n",
    "    \n",
    "        B1=int(input(\"Breadth1: \"))\n",
    "\n",
    "        Perimeter=H1 + H2 + B1\n",
    "\n",
    "        print(\"Perimeter of Triangle: \",Perimeter)\n",
    "\n",
    "        message=\"Perimeter\"\n",
    "\n",
    "        return message"
   ]
  },
  {
   "cell_type": "code",
   "execution_count": 12,
   "id": "cbad4805",
   "metadata": {},
   "outputs": [
    {
     "name": "stdout",
     "output_type": "stream",
     "text": [
      "Height: 23\n",
      "Breadth: 22\n",
      "Area of Triangle:  253.0\n",
      "Height1: 10\n",
      "Height2: 10\n",
      "Breadth1: 8\n",
      "Perimeter of Triangle:  28\n"
     ]
    },
    {
     "data": {
      "text/plain": [
       "'Perimeter'"
      ]
     },
     "execution_count": 12,
     "metadata": {},
     "output_type": "execute_result"
    }
   ],
   "source": [
    "triangle.triangle()"
   ]
  },
  {
   "cell_type": "code",
   "execution_count": null,
   "id": "def237a7",
   "metadata": {},
   "outputs": [],
   "source": []
  }
 ],
 "metadata": {
  "kernelspec": {
   "display_name": "Python 3 (ipykernel)",
   "language": "python",
   "name": "python3"
  },
  "language_info": {
   "codemirror_mode": {
    "name": "ipython",
    "version": 3
   },
   "file_extension": ".py",
   "mimetype": "text/x-python",
   "name": "python",
   "nbconvert_exporter": "python",
   "pygments_lexer": "ipython3",
   "version": "3.11.5"
  }
 },
 "nbformat": 4,
 "nbformat_minor": 5
}
