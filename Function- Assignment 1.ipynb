{
 "cells": [
  {
   "cell_type": "code",
   "execution_count": null,
   "id": "15060d7d",
   "metadata": {},
   "outputs": [],
   "source": [
    "# Create a  function, and list out the items in the list"
   ]
  },
  {
   "cell_type": "code",
   "execution_count": null,
   "id": "dcb4a815",
   "metadata": {},
   "outputs": [],
   "source": [
    "def SubfieldInAI():\n",
    "    print(\"Sub-fields in AI are:\")\n",
    "    mylist= [\"Machine Learning\",\"Neural Networks\",\"Vision,Robotics\",\"Speech Processing\",\"Natural Language Processing\"]\n",
    "    for i in mylist:\n",
    "        print(i)"
   ]
  },
  {
   "cell_type": "code",
   "execution_count": null,
   "id": "045d111b",
   "metadata": {},
   "outputs": [],
   "source": [
    "SubfieldInAI()"
   ]
  },
  {
   "cell_type": "code",
   "execution_count": null,
   "id": "ff2bb9c8",
   "metadata": {},
   "outputs": [],
   "source": [
    "# Create a function that checks whether the given number is Odd or Even"
   ]
  },
  {
   "cell_type": "code",
   "execution_count": null,
   "id": "e4fe965f",
   "metadata": {},
   "outputs": [],
   "source": [
    "def oddeven():\n",
    "    num=int(input(\"Enter the number\"))\n",
    "    if ((num%2)==0):\n",
    "        print(num,\" is Even number\")\n",
    "        message=\"Even number\"\n",
    "    else:\n",
    "        print(num, \" is Odd number\" )\n",
    "        message=\"Odd number\"\n",
    "    return message"
   ]
  },
  {
   "cell_type": "code",
   "execution_count": null,
   "id": "b5295760",
   "metadata": {},
   "outputs": [],
   "source": [
    " message1=oddeven()"
   ]
  },
  {
   "cell_type": "code",
   "execution_count": null,
   "id": "ce564464",
   "metadata": {},
   "outputs": [],
   "source": [
    "# Create a function that tells elegibility of marriage for male and female according \n",
    "#to their age limit like 21 for male and 18 for female"
   ]
  },
  {
   "cell_type": "code",
   "execution_count": null,
   "id": "4a9b0b26",
   "metadata": {},
   "outputs": [],
   "source": [
    "def elegiblityformarriage():\n",
    "    gender=input(\"Your Gender:\")\n",
    "    age=int(input(\"Your Age\"))\n",
    "    if gender==\"male\":\n",
    "        if age>=21:\n",
    "            print(\"Eligible\")\n",
    "        else:\n",
    "            print(\"Not eligible\")\n",
    "    elif gender==\"female\":\n",
    "        if age>=18:\n",
    "            print(\"Eligible\")\n",
    "        else:\n",
    "            print(\"Not eligible\")\n",
    "    else:\n",
    "        print(\"Invalid\")\n"
   ]
  },
  {
   "cell_type": "code",
   "execution_count": null,
   "id": "7f174793",
   "metadata": {},
   "outputs": [],
   "source": [
    "elegiblity=elegiblityformarriage()"
   ]
  },
  {
   "cell_type": "code",
   "execution_count": null,
   "id": "d6a915a1",
   "metadata": {},
   "outputs": [],
   "source": [
    "# calculate the percentage of your 10th mark"
   ]
  },
  {
   "cell_type": "code",
   "execution_count": 7,
   "id": "dda1edc4",
   "metadata": {},
   "outputs": [],
   "source": [
    "def percent():\n",
    "    sub1=int(input(\"Subject1\"))\n",
    "    sub2=int(input(\"Subject2\"))\n",
    "    sub3=int(input(\"Subject3\"))\n",
    "    sub4=int(input(\"Subject4\"))\n",
    "    sub5=int(input(\"Subject5\"))\n",
    "    total=sub1+sub2+sub3+sub4+sub5\n",
    "    print(\"Total= \",total)\n",
    "    per=(total/5)\n",
    "    percentage=per   \n",
    "    return percentage\n"
   ]
  },
  {
   "cell_type": "code",
   "execution_count": 10,
   "id": "e405178d",
   "metadata": {},
   "outputs": [
    {
     "name": "stdout",
     "output_type": "stream",
     "text": [
      "Subject198\n",
      "Subject295\n",
      "Subject395\n",
      "Subject493\n",
      "Subject587\n",
      "Total=  468\n"
     ]
    },
    {
     "data": {
      "text/plain": [
       "93.6"
      ]
     },
     "execution_count": 10,
     "metadata": {},
     "output_type": "execute_result"
    }
   ],
   "source": [
    "percent()"
   ]
  },
  {
   "cell_type": "code",
   "execution_count": null,
   "id": "7b4ad13d",
   "metadata": {},
   "outputs": [],
   "source": [
    " #print area and perimeter of triangle using class and functions"
   ]
  },
  {
   "cell_type": "code",
   "execution_count": 16,
   "id": "abed3116",
   "metadata": {},
   "outputs": [],
   "source": [
    "def triangle():\n",
    "\n",
    "    H=int(input(\"Height: \"))\n",
    "\n",
    "    B=int(input(\"Breadth: \"))\n",
    "\n",
    "    Area=(H*B)/2\n",
    "\n",
    "    print(\"Area of Triangle: \",Area)\n",
    "\n",
    "    message=\"Area\"\n",
    "\n",
    "    H1=int(input(\"Height1: \"))\n",
    "\n",
    "    H2=int(input(\"Height2: \"))\n",
    "    \n",
    "    B1=int(input(\"Breadth1: \"))\n",
    "\n",
    "    Perimeter=H1 + H2 + B1\n",
    "\n",
    "    print(\"Perimeter of Triangle: \",Perimeter)\n",
    "\n",
    "    message=\"Perimeter\"\n",
    "\n",
    "    return message"
   ]
  },
  {
   "cell_type": "code",
   "execution_count": 18,
   "id": "0d8724a1",
   "metadata": {},
   "outputs": [
    {
     "name": "stdout",
     "output_type": "stream",
     "text": [
      "Height: 32\n",
      "Breadth: 34\n",
      "Area of Triangle:  544.0\n",
      "Height1: 2\n",
      "Height2: 4\n",
      "Breadth1: 4\n",
      "Perimeter of Triangle:  10\n"
     ]
    }
   ],
   "source": [
    "tri=triangle()"
   ]
  },
  {
   "cell_type": "code",
   "execution_count": null,
   "id": "42626153",
   "metadata": {},
   "outputs": [],
   "source": []
  }
 ],
 "metadata": {
  "kernelspec": {
   "display_name": "Python 3 (ipykernel)",
   "language": "python",
   "name": "python3"
  },
  "language_info": {
   "codemirror_mode": {
    "name": "ipython",
    "version": 3
   },
   "file_extension": ".py",
   "mimetype": "text/x-python",
   "name": "python",
   "nbconvert_exporter": "python",
   "pygments_lexer": "ipython3",
   "version": "3.11.5"
  }
 },
 "nbformat": 4,
 "nbformat_minor": 5
}
