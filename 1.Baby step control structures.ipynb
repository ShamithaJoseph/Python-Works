{
 "cells": [
  {
   "cell_type": "code",
   "execution_count": 5,
   "id": "0a6d6ad6",
   "metadata": {},
   "outputs": [
    {
     "name": "stdout",
     "output_type": "stream",
     "text": [
      "Welcome to Assignment-1\n"
     ]
    }
   ],
   "source": [
    "print(\"Welcome to Assignment-1\")"
   ]
  },
  {
   "cell_type": "code",
   "execution_count": 3,
   "id": "8ed3d90c",
   "metadata": {},
   "outputs": [
    {
     "name": "stdout",
     "output_type": "stream",
     "text": [
      "num1= 10\n",
      "num2= 20\n",
      "Add=  30\n"
     ]
    }
   ],
   "source": [
    "num1=10\n",
    "num2=20\n",
    "add=num1+num2\n",
    "print(\"num1=\",num1)\n",
    "print(\"num2=\",num2)\n",
    "print(\"Add= \",add)"
   ]
  },
  {
   "cell_type": "code",
   "execution_count": 4,
   "id": "10888697",
   "metadata": {},
   "outputs": [
    {
     "name": "stdout",
     "output_type": "stream",
     "text": [
      "Enter the BMI Index:34\n",
      "Very Overweight\n"
     ]
    }
   ],
   "source": [
    "Bmi=int(input(\"Enter the BMI Index:\"))\n",
    "if(Bmi<18.5):\n",
    "    print(\"Underweight\")\n",
    "elif(Bmi>=18.5 and Bmi<=24.9):\n",
    "    print(\"Normal Weight\")\n",
    "elif(Bmi>=25 and Bmi<=29.9):\n",
    "    print(\"Overweight\")\n",
    "else:\n",
    "    print(\"Very Overweight\")"
   ]
  },
  {
   "cell_type": "code",
   "execution_count": null,
   "id": "f01d6e01",
   "metadata": {},
   "outputs": [],
   "source": []
  }
 ],
 "metadata": {
  "kernelspec": {
   "display_name": "Python 3 (ipykernel)",
   "language": "python",
   "name": "python3"
  },
  "language_info": {
   "codemirror_mode": {
    "name": "ipython",
    "version": 3
   },
   "file_extension": ".py",
   "mimetype": "text/x-python",
   "name": "python",
   "nbconvert_exporter": "python",
   "pygments_lexer": "ipython3",
   "version": "3.11.5"
  }
 },
 "nbformat": 4,
 "nbformat_minor": 5
}
